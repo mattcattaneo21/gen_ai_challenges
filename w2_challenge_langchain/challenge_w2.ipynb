{
 "cells": [
  {
   "cell_type": "markdown",
   "id": "a58282f3",
   "metadata": {},
   "source": [
    "# Week 2 - Challenge\n",
    "## LangChain Practice\n",
    "\n",
    "### Advanced Customer Service Agent with LangChain"
   ]
  },
  {
   "cell_type": "markdown",
   "id": "515d878b",
   "metadata": {},
   "source": [
    "> Deliverables\n",
    "\n",
    ">> 1. Implementation using LangChain Expression Language (LCEL) to build the agent.\n",
    ">> 2. Pydantic models for QueryAnalysis and ConversationSummary fully integrated into the chain.\n",
    ">> 3. Usage examples for each suggested test query, demonstrating the end-to-end functionality.\n",
    ">> 4. Results analysis. Include a screenshot or public link to a LangSmith trace for one of the complex queries (e.g.: \"Urgent-Negative\") to demonstrate successful tracing."
   ]
  },
  {
   "cell_type": "markdown",
   "id": "48e36538",
   "metadata": {},
   "source": [
    "#### Setup & API Configuration"
   ]
  },
  {
   "cell_type": "code",
   "execution_count": null,
   "id": "99cd730f",
   "metadata": {},
   "outputs": [],
   "source": [
    "# Install necessary packages\n",
    "\n",
    "!pip install openai\n",
    "!pip install python-dotenv\n",
    "!pip install -qU \\\n",
    "  langchain-core \\\n",
    "  langchain-openai \\\n",
    "  langchain-community"
   ]
  },
  {
   "cell_type": "code",
   "execution_count": 12,
   "id": "9f616705",
   "metadata": {},
   "outputs": [],
   "source": [
    "# Import necessary libraries\n",
    "\n",
    "import os\n",
    "import openai\n",
    "from dotenv import load_dotenv\n",
    "from langchain_openai import ChatOpenAI\n",
    "from langchain.prompts import ChatPromptTemplate\n",
    "from langchain.schema.runnable import RunnableLambda, RunnablePassthrough\n",
    "from pydantic import BaseModel, Field\n",
    "\n",
    "# Load environment variables from .env file\n",
    "\n",
    "load_dotenv()\n",
    "openai.api_key  = os.getenv('OPENAI_API_KEY')\n",
    "client = openai.OpenAI()"
   ]
  },
  {
   "cell_type": "code",
   "execution_count": 13,
   "id": "e4b4cd05",
   "metadata": {},
   "outputs": [],
   "source": [
    "openai_model = \"gpt-4o-mini\""
   ]
  },
  {
   "cell_type": "markdown",
   "id": "c3c03261",
   "metadata": {},
   "source": [
    "#### 1° Component - Query Analysis & Classification\n",
    "\n",
    "Analyze the initial user query and extract key information into a structured format."
   ]
  },
  {
   "cell_type": "code",
   "execution_count": null,
   "id": "b001c141",
   "metadata": {},
   "outputs": [],
   "source": [
    "from pydantic import BaseModel, Field\n",
    "from typing import Literal, Optional\n",
    "\n",
    "class ExtractedEntities (BaseModel):\n",
    "    product_name: Optional[str] = Field(None, description=\"The specific product mentioned by the user\")\n",
    "    order_number: Optional[str] = Field(None, description=\"The order number mentioned by the user\")\n",
    "\n",
    "class QueryAnalysis (BaseModel):\n",
    "    \"\"\"Analyzes and classifies a customer query.\"\"\"\n",
    "    query_category: Literal[\"technical_support\",\"billing\",\"returns\",\"product_inquiry\",\"general_information\"]\n",
    "    urgency_level: Literal[\"low\",\"medium\",\"high\"]\n",
    "    customer_sentiment: Literal[\"positive\",\"neutral\",\"negative\"]\n",
    "    entities: ExtractedEntities    "
   ]
  },
  {
   "cell_type": "markdown",
   "id": "57d83e5c",
   "metadata": {},
   "source": [
    "#### 2° Component - Dynamic Response Generation\n",
    "\n",
    "Generate a context-aware, personalized response."
   ]
  },
  {
   "cell_type": "markdown",
   "id": "75927807",
   "metadata": {},
   "source": [
    "#### 3° Component - Conversation Summarization & Persistance\n",
    "\n",
    "Generate a structured summary of the entire interaction, ready for logging."
   ]
  }
 ],
 "metadata": {
  "kernelspec": {
   "display_name": ".venv (3.13.5)",
   "language": "python",
   "name": "python3"
  },
  "language_info": {
   "codemirror_mode": {
    "name": "ipython",
    "version": 3
   },
   "file_extension": ".py",
   "mimetype": "text/x-python",
   "name": "python",
   "nbconvert_exporter": "python",
   "pygments_lexer": "ipython3",
   "version": "3.13.5"
  }
 },
 "nbformat": 4,
 "nbformat_minor": 5
}
