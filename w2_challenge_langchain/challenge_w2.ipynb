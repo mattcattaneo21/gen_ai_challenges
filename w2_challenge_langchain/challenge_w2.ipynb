{
 "cells": [
  {
   "cell_type": "markdown",
   "id": "a58282f3",
   "metadata": {},
   "source": [
    "# Week 2 - Challenge\n",
    "## LangChain Practice\n",
    "\n",
    "### Advanced Customer Service Agent with LangChain"
   ]
  },
  {
   "cell_type": "markdown",
   "id": "515d878b",
   "metadata": {},
   "source": [
    "> Deliverables\n",
    "\n",
    ">> 1. Implementation using LangChain Expression Language (LCEL) to build the agent.\n",
    ">> 2. Pydantic models for QueryAnalysis and ConversationSummary fully integrated into the chain.\n",
    ">> 3. Usage examples for each suggested test query, demonstrating the end-to-end functionality.\n",
    ">> 4. Results analysis. Include a screenshot or public link to a LangSmith trace for one of the complex queries (e.g.: \"Urgent-Negative\") to demonstrate successful tracing."
   ]
  },
  {
   "cell_type": "markdown",
   "id": "48e36538",
   "metadata": {},
   "source": [
    "### 1. Setup & API Configuration"
   ]
  },
  {
   "cell_type": "code",
   "execution_count": null,
   "id": "99cd730f",
   "metadata": {},
   "outputs": [],
   "source": [
    "# Install necessary packages\n",
    "\n",
    "!pip install openai\n",
    "!pip install python-dotenv"
   ]
  },
  {
   "cell_type": "code",
   "execution_count": 6,
   "id": "9f616705",
   "metadata": {},
   "outputs": [],
   "source": [
    "# Import necessary libraries\n",
    "\n",
    "import os\n",
    "import openai\n",
    "from dotenv import load_dotenv\n",
    "import json\n",
    "import datetime\n",
    "from uuid import uuid4 # Generate unique IDs for each conversation\n",
    "\n",
    "\n",
    "# Load environment variables from .env file\n",
    "\n",
    "load_dotenv()\n",
    "\n",
    "openai.api_key  = os.getenv('OPENAI_API_KEY')\n",
    "\n",
    "client = openai.OpenAI()"
   ]
  }
 ],
 "metadata": {
  "kernelspec": {
   "display_name": ".venv (3.13.5)",
   "language": "python",
   "name": "python3"
  },
  "language_info": {
   "codemirror_mode": {
    "name": "ipython",
    "version": 3
   },
   "file_extension": ".py",
   "mimetype": "text/x-python",
   "name": "python",
   "nbconvert_exporter": "python",
   "pygments_lexer": "ipython3",
   "version": "3.13.5"
  }
 },
 "nbformat": 4,
 "nbformat_minor": 5
}
